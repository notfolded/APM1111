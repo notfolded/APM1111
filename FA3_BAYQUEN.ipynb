{
  "nbformat": 4,
  "nbformat_minor": 0,
  "metadata": {
    "colab": {
      "provenance": []
    },
    "kernelspec": {
      "name": "python3",
      "display_name": "Python 3"
    },
    "language_info": {
      "name": "python"
    }
  },
  "cells": [
    {
      "cell_type": "code",
      "execution_count": 3,
      "metadata": {
        "id": "H-0d5_niJgI-"
      },
      "outputs": [],
      "source": [
        "import numpy as np\n",
        ""
      ]
    },
    {
      "cell_type": "code",
      "source": [
        "test_scores =\n",
        "[88, 45, 53, 86, 33, 86, 85, 30, 89, 53,\n",
        "    41, 96, 56, 38, 62, 71, 51, 86, 68, 29,\n",
        "    28, 47, 33, 37, 25, 36, 33, 94, 73, 46,\n",
        "    42, 34, 79, 72, 88, 99, 82, 62, 57, 42,\n",
        "    28, 55, 67, 62, 60, 96, 61, 57, 75, 93,\n",
        "    34, 75, 53, 32, 28, 73, 51, 69, 91, 35]"
      ],
      "metadata": {
        "id": "r7JOfaBkJ-O8"
      },
      "execution_count": 4,
      "outputs": []
    },
    {
      "cell_type": "markdown",
      "source": [
        "*Calculating the quartiles, deciles, and percentiles*"
      ],
      "metadata": {
        "id": "QAPz8BM8KyXm"
      }
    },
    {
      "cell_type": "code",
      "source": [
        "Q1 = np.percentile(test_scores, 25)     #Quartile1\n",
        "Q2 = np.percentile(test_scores, 50)     #Quartile2\n",
        "Q3 = np.percentile(test_scores, 75)     #Quartile3\n",
        "\n",
        "D9 = np.percentile(test_scores, 90)     #decile90\n",
        "P95 = np.percentile(test_scores, 95)    #percentile95\n"
      ],
      "metadata": {
        "id": "d9rADmSmKErt"
      },
      "execution_count": 15,
      "outputs": []
    },
    {
      "cell_type": "code",
      "source": [
        "print(\"Quartile 1 :\", Q1)\n",
        "print(\"Quartile 2 :\", Q2)\n",
        "print(\"Quartile 3 :\", Q3)\n",
        "\n",
        "print(\"Decile 9 : \", D9)\n",
        "print(\"Percentile 95 : \", P95)\n",
        "\n",
        "\n"
      ],
      "metadata": {
        "colab": {
          "base_uri": "https://localhost:8080/"
        },
        "id": "4kD61b29LVrn",
        "outputId": "0e12fce6-6100-4811-b4de-5380be69f72f"
      },
      "execution_count": 16,
      "outputs": [
        {
          "output_type": "stream",
          "name": "stdout",
          "text": [
            "Quartile 1 : 37.75\n",
            "Quartile 2 : 57.0\n",
            "Quartile 3 : 76.0\n",
            "Decile 9 :  89.2\n",
            "Percentile 95 :  94.1\n"
          ]
        }
      ]
    }
  ]
}